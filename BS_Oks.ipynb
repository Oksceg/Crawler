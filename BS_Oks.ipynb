{
 "cells": [
  {
   "cell_type": "markdown",
   "metadata": {},
   "source": [
    "### 1.1. Импортируем модули и начинаем работать с https://stihi.ru/:"
   ]
  },
  {
   "cell_type": "code",
   "execution_count": 1,
   "metadata": {},
   "outputs": [],
   "source": [
    "import requests\n",
    "from bs4 import BeautifulSoup\n",
    "from pprint import pprint\n",
    "import pandas as pd"
   ]
  },
  {
   "cell_type": "code",
   "execution_count": 2,
   "metadata": {},
   "outputs": [],
   "source": [
    "stihi_ru = \"https://stihi.ru/\"\n",
    "response = requests.get(\"https://stihi.ru/\")"
   ]
  },
  {
   "cell_type": "code",
   "execution_count": 3,
   "metadata": {},
   "outputs": [],
   "source": [
    "html_content = response.text"
   ]
  },
  {
   "cell_type": "markdown",
   "metadata": {},
   "source": [
    "### 1.2. Вытаскиваем ссылки из верхнего меню:"
   ]
  },
  {
   "cell_type": "code",
   "execution_count": 4,
   "metadata": {},
   "outputs": [],
   "source": [
    "soup = BeautifulSoup(html_content, 'html.parser')  \n",
    "post = soup.find('ul', {'class': 'headmenu'})"
   ]
  },
  {
   "cell_type": "code",
   "execution_count": 5,
   "metadata": {},
   "outputs": [
    {
     "data": {
      "text/plain": [
       "['https://stihi.ru//authors/',\n",
       " 'https://stihi.ru//poems/',\n",
       " 'https://stihi.ru//board/',\n",
       " 'https://stihi.ru//search.html',\n",
       " 'https://shop.stihi.ru/',\n",
       " 'https://o.stihi.ru/',\n",
       " 'https://stihi.ru//login/']"
      ]
     },
     "execution_count": 5,
     "metadata": {},
     "output_type": "execute_result"
    }
   ],
   "source": [
    "links = []\n",
    "for link in post.find_all('a'):\n",
    "    actualink = link.get('href')\n",
    "    if \"https\" not in actualink:\n",
    "        full_link = stihi_ru+actualink\n",
    "        links.append(full_link)\n",
    "    else:\n",
    "        links.append(actualink)\n",
    "        \n",
    "links"
   ]
  },
  {
   "cell_type": "markdown",
   "metadata": {},
   "source": [
    "### 2.1. Начинаем работу с ссылкой на рекомендованные произведения:"
   ]
  },
  {
   "cell_type": "code",
   "execution_count": 6,
   "metadata": {},
   "outputs": [
    {
     "data": {
      "text/plain": [
       "'https://stihi.ru//editor/'"
      ]
     },
     "execution_count": 6,
     "metadata": {},
     "output_type": "execute_result"
    }
   ],
   "source": [
    "reclit_line = soup.find('a', {'class': 'topref'})\n",
    "reclit_link = reclit_line.get('href')\n",
    "reclit_link = stihi_ru+reclit_link\n",
    "reclit_link"
   ]
  },
  {
   "cell_type": "code",
   "execution_count": 7,
   "metadata": {},
   "outputs": [],
   "source": [
    "response_2 = requests.get(reclit_link)"
   ]
  },
  {
   "cell_type": "code",
   "execution_count": 8,
   "metadata": {},
   "outputs": [],
   "source": [
    "html_content_2 = response_2.text"
   ]
  },
  {
   "cell_type": "code",
   "execution_count": 9,
   "metadata": {},
   "outputs": [],
   "source": [
    "soup_2 = BeautifulSoup(html_content_2, 'html.parser') "
   ]
  },
  {
   "cell_type": "markdown",
   "metadata": {},
   "source": [
    "### 2.2. Достаем и кладем в отдельные списки произведения, авторов и время публикаций"
   ]
  },
  {
   "cell_type": "code",
   "execution_count": 10,
   "metadata": {},
   "outputs": [],
   "source": [
    "works = []\n",
    "works_lines = soup_2.find_all('a', {'class':'poemlink'})\n",
    "for work in works_lines:\n",
    "    works.append(work.text)"
   ]
  },
  {
   "cell_type": "code",
   "execution_count": 11,
   "metadata": {},
   "outputs": [],
   "source": [
    "autors = []\n",
    "autors_lines = soup_2.find_all('a', {'class':'authorlink'})\n",
    "for autor in autors_lines:\n",
    "    autors.append(autor.text)"
   ]
  },
  {
   "cell_type": "code",
   "execution_count": 12,
   "metadata": {},
   "outputs": [],
   "source": [
    "dates = []\n",
    "dates_lines = soup_2.find_all('small')\n",
    "for date in dates_lines:\n",
    "    date_text = date.text   \n",
    "    date_text = date_text.replace('-', '')\n",
    "    dates.append(date_text)\n"
   ]
  },
  {
   "cell_type": "code",
   "execution_count": 17,
   "metadata": {},
   "outputs": [
    {
     "data": {
      "text/plain": [
       "['2020-10-12',\n",
       " '2020-10-09',\n",
       " '2020-10-09',\n",
       " '2020-10-09',\n",
       " '2020-10-09',\n",
       " '2020-10-09',\n",
       " '2020-10-09',\n",
       " '2020-10-07',\n",
       " '2020-10-07',\n",
       " '2020-10-07',\n",
       " '2020-10-07',\n",
       " '2020-10-07',\n",
       " '2020-10-07',\n",
       " '2020-10-07',\n",
       " '2020-10-07',\n",
       " '2020-10-08',\n",
       " '2020-10-08',\n",
       " '2020-10-08',\n",
       " '2020-10-08',\n",
       " '2020-10-07',\n",
       " '2020-10-07',\n",
       " '2020-10-07',\n",
       " '2020-10-07',\n",
       " '2020-10-07',\n",
       " '2020-10-07',\n",
       " '2020-10-07',\n",
       " '2020-10-07',\n",
       " '2020-10-07',\n",
       " '2020-10-04']"
      ]
     },
     "execution_count": 17,
     "metadata": {},
     "output_type": "execute_result"
    }
   ],
   "source": [
    "YMDs = []\n",
    "for date in dates:\n",
    "    year_month_date_time = date.split()\n",
    "    year_month_date = year_month_date_time[0]\n",
    "    y_m_d = year_month_date.split('.')\n",
    "    YMD = f\"{y_m_d[2]}-{y_m_d[1]}-{y_m_d[0]}\"\n",
    "    YMDs.append(YMD)\n",
    "YMDs"
   ]
  },
  {
   "cell_type": "code",
   "execution_count": 18,
   "metadata": {},
   "outputs": [],
   "source": [
    "data = {\n",
    "    \"Автор\": autors,\n",
    "    \"Произведение\": works,\n",
    "    \"Время публикации\": YMDs\n",
    "}"
   ]
  },
  {
   "cell_type": "code",
   "execution_count": 19,
   "metadata": {},
   "outputs": [
    {
     "data": {
      "text/html": [
       "<div>\n",
       "<style scoped>\n",
       "    .dataframe tbody tr th:only-of-type {\n",
       "        vertical-align: middle;\n",
       "    }\n",
       "\n",
       "    .dataframe tbody tr th {\n",
       "        vertical-align: top;\n",
       "    }\n",
       "\n",
       "    .dataframe thead th {\n",
       "        text-align: right;\n",
       "    }\n",
       "</style>\n",
       "<table border=\"1\" class=\"dataframe\">\n",
       "  <thead>\n",
       "    <tr style=\"text-align: right;\">\n",
       "      <th></th>\n",
       "      <th>Автор</th>\n",
       "      <th>Произведение</th>\n",
       "      <th>Время публикации</th>\n",
       "    </tr>\n",
       "  </thead>\n",
       "  <tbody>\n",
       "    <tr>\n",
       "      <th>28</th>\n",
       "      <td>Евгения Урусова</td>\n",
       "      <td>Октябрьским днём</td>\n",
       "      <td>2020-10-04</td>\n",
       "    </tr>\n",
       "    <tr>\n",
       "      <th>26</th>\n",
       "      <td>Вадим Бакулин</td>\n",
       "      <td>Золотая пора</td>\n",
       "      <td>2020-10-07</td>\n",
       "    </tr>\n",
       "    <tr>\n",
       "      <th>25</th>\n",
       "      <td>Олег Степаненко</td>\n",
       "      <td>Полусонный полустанок</td>\n",
       "      <td>2020-10-07</td>\n",
       "    </tr>\n",
       "    <tr>\n",
       "      <th>24</th>\n",
       "      <td>Евгений Глушаков</td>\n",
       "      <td>Когда б не в чаще мшистый сруб</td>\n",
       "      <td>2020-10-07</td>\n",
       "    </tr>\n",
       "    <tr>\n",
       "      <th>23</th>\n",
       "      <td>Алёна Прохорова</td>\n",
       "      <td>Осень</td>\n",
       "      <td>2020-10-07</td>\n",
       "    </tr>\n",
       "    <tr>\n",
       "      <th>22</th>\n",
       "      <td>Борис Бударин</td>\n",
       "      <td>Осенняя рапсодия</td>\n",
       "      <td>2020-10-07</td>\n",
       "    </tr>\n",
       "    <tr>\n",
       "      <th>21</th>\n",
       "      <td>Александр Рудт</td>\n",
       "      <td>Позади сентября половина</td>\n",
       "      <td>2020-10-07</td>\n",
       "    </tr>\n",
       "    <tr>\n",
       "      <th>20</th>\n",
       "      <td>Таня Зачёсова</td>\n",
       "      <td>Я словно лист, что не желает падать</td>\n",
       "      <td>2020-10-07</td>\n",
       "    </tr>\n",
       "    <tr>\n",
       "      <th>19</th>\n",
       "      <td>Евгений Захарченко 2</td>\n",
       "      <td>Свидание</td>\n",
       "      <td>2020-10-07</td>\n",
       "    </tr>\n",
       "    <tr>\n",
       "      <th>27</th>\n",
       "      <td>Сергей Низамов</td>\n",
       "      <td>Запахом прелой травы на рассвете</td>\n",
       "      <td>2020-10-07</td>\n",
       "    </tr>\n",
       "    <tr>\n",
       "      <th>13</th>\n",
       "      <td>Сергей Хомутов Рыбинск</td>\n",
       "      <td>Бывший друг</td>\n",
       "      <td>2020-10-07</td>\n",
       "    </tr>\n",
       "    <tr>\n",
       "      <th>12</th>\n",
       "      <td>Клавдия Смирягина Дмитриева</td>\n",
       "      <td>Кровь осени пульсирует в висках</td>\n",
       "      <td>2020-10-07</td>\n",
       "    </tr>\n",
       "    <tr>\n",
       "      <th>14</th>\n",
       "      <td>Мария Фроловская</td>\n",
       "      <td>Маленький посёлок на побережье</td>\n",
       "      <td>2020-10-07</td>\n",
       "    </tr>\n",
       "    <tr>\n",
       "      <th>10</th>\n",
       "      <td>Ирина Молочкова</td>\n",
       "      <td>Всё прозрачней</td>\n",
       "      <td>2020-10-07</td>\n",
       "    </tr>\n",
       "    <tr>\n",
       "      <th>9</th>\n",
       "      <td>Игорь Гуревич</td>\n",
       "      <td>Минута осени</td>\n",
       "      <td>2020-10-07</td>\n",
       "    </tr>\n",
       "    <tr>\n",
       "      <th>8</th>\n",
       "      <td>Сергей Вит Берсенев</td>\n",
       "      <td>Потеряться</td>\n",
       "      <td>2020-10-07</td>\n",
       "    </tr>\n",
       "    <tr>\n",
       "      <th>7</th>\n",
       "      <td>Лада Миллер</td>\n",
       "      <td>За озером вступили духовые</td>\n",
       "      <td>2020-10-07</td>\n",
       "    </tr>\n",
       "    <tr>\n",
       "      <th>11</th>\n",
       "      <td>Андрей Войтов</td>\n",
       "      <td>Хрупкие наивные мечты</td>\n",
       "      <td>2020-10-07</td>\n",
       "    </tr>\n",
       "    <tr>\n",
       "      <th>15</th>\n",
       "      <td>Генрих Зорингер</td>\n",
       "      <td>Раздвинутые шторы</td>\n",
       "      <td>2020-10-08</td>\n",
       "    </tr>\n",
       "    <tr>\n",
       "      <th>16</th>\n",
       "      <td>Альберт Горошко</td>\n",
       "      <td>Ностальгическое</td>\n",
       "      <td>2020-10-08</td>\n",
       "    </tr>\n",
       "    <tr>\n",
       "      <th>17</th>\n",
       "      <td>Иван Грозный</td>\n",
       "      <td>Уезжаю</td>\n",
       "      <td>2020-10-08</td>\n",
       "    </tr>\n",
       "    <tr>\n",
       "      <th>18</th>\n",
       "      <td>Наталья Максимова</td>\n",
       "      <td>Ворожили-ворожили</td>\n",
       "      <td>2020-10-08</td>\n",
       "    </tr>\n",
       "    <tr>\n",
       "      <th>6</th>\n",
       "      <td>Сергей Шелковый</td>\n",
       "      <td>Но уже над кармином, шафраном</td>\n",
       "      <td>2020-10-09</td>\n",
       "    </tr>\n",
       "    <tr>\n",
       "      <th>5</th>\n",
       "      <td>Владимир Мялин</td>\n",
       "      <td>Таормина</td>\n",
       "      <td>2020-10-09</td>\n",
       "    </tr>\n",
       "    <tr>\n",
       "      <th>4</th>\n",
       "      <td>Марина Николаева-Бурак</td>\n",
       "      <td>Цветы и я</td>\n",
       "      <td>2020-10-09</td>\n",
       "    </tr>\n",
       "    <tr>\n",
       "      <th>3</th>\n",
       "      <td>Таня Иванова-Яковлева</td>\n",
       "      <td>День шуршания листвой</td>\n",
       "      <td>2020-10-09</td>\n",
       "    </tr>\n",
       "    <tr>\n",
       "      <th>2</th>\n",
       "      <td>Сергей Пагын</td>\n",
       "      <td>С неба кинут наживку</td>\n",
       "      <td>2020-10-09</td>\n",
       "    </tr>\n",
       "    <tr>\n",
       "      <th>1</th>\n",
       "      <td>Илья Будницкий</td>\n",
       "      <td>Когда-то</td>\n",
       "      <td>2020-10-09</td>\n",
       "    </tr>\n",
       "    <tr>\n",
       "      <th>0</th>\n",
       "      <td>Фокеева Елена</td>\n",
       "      <td>Осенняя маска</td>\n",
       "      <td>2020-10-12</td>\n",
       "    </tr>\n",
       "  </tbody>\n",
       "</table>\n",
       "</div>"
      ],
      "text/plain": [
       "                          Автор                         Произведение  \\\n",
       "28              Евгения Урусова                     Октябрьским днём   \n",
       "26                Вадим Бакулин                         Золотая пора   \n",
       "25              Олег Степаненко                Полусонный полустанок   \n",
       "24             Евгений Глушаков       Когда б не в чаще мшистый сруб   \n",
       "23              Алёна Прохорова                                Осень   \n",
       "22                Борис Бударин                     Осенняя рапсодия   \n",
       "21               Александр Рудт             Позади сентября половина   \n",
       "20                Таня Зачёсова  Я словно лист, что не желает падать   \n",
       "19         Евгений Захарченко 2                             Свидание   \n",
       "27               Сергей Низамов     Запахом прелой травы на рассвете   \n",
       "13       Сергей Хомутов Рыбинск                          Бывший друг   \n",
       "12  Клавдия Смирягина Дмитриева      Кровь осени пульсирует в висках   \n",
       "14             Мария Фроловская       Маленький посёлок на побережье   \n",
       "10              Ирина Молочкова                       Всё прозрачней   \n",
       "9                 Игорь Гуревич                         Минута осени   \n",
       "8           Сергей Вит Берсенев                           Потеряться   \n",
       "7                   Лада Миллер           За озером вступили духовые   \n",
       "11                Андрей Войтов                Хрупкие наивные мечты   \n",
       "15              Генрих Зорингер                    Раздвинутые шторы   \n",
       "16              Альберт Горошко                      Ностальгическое   \n",
       "17                 Иван Грозный                               Уезжаю   \n",
       "18            Наталья Максимова                    Ворожили-ворожили   \n",
       "6               Сергей Шелковый        Но уже над кармином, шафраном   \n",
       "5                Владимир Мялин                             Таормина   \n",
       "4        Марина Николаева-Бурак                            Цветы и я   \n",
       "3         Таня Иванова-Яковлева                День шуршания листвой   \n",
       "2                  Сергей Пагын                 С неба кинут наживку   \n",
       "1                Илья Будницкий                             Когда-то   \n",
       "0                 Фокеева Елена                        Осенняя маска   \n",
       "\n",
       "   Время публикации  \n",
       "28       2020-10-04  \n",
       "26       2020-10-07  \n",
       "25       2020-10-07  \n",
       "24       2020-10-07  \n",
       "23       2020-10-07  \n",
       "22       2020-10-07  \n",
       "21       2020-10-07  \n",
       "20       2020-10-07  \n",
       "19       2020-10-07  \n",
       "27       2020-10-07  \n",
       "13       2020-10-07  \n",
       "12       2020-10-07  \n",
       "14       2020-10-07  \n",
       "10       2020-10-07  \n",
       "9        2020-10-07  \n",
       "8        2020-10-07  \n",
       "7        2020-10-07  \n",
       "11       2020-10-07  \n",
       "15       2020-10-08  \n",
       "16       2020-10-08  \n",
       "17       2020-10-08  \n",
       "18       2020-10-08  \n",
       "6        2020-10-09  \n",
       "5        2020-10-09  \n",
       "4        2020-10-09  \n",
       "3        2020-10-09  \n",
       "2        2020-10-09  \n",
       "1        2020-10-09  \n",
       "0        2020-10-12  "
      ]
     },
     "execution_count": 19,
     "metadata": {},
     "output_type": "execute_result"
    }
   ],
   "source": [
    "df = pd.DataFrame(data).sort_values(by=\"Время публикации\")\n",
    "df"
   ]
  }
 ],
 "metadata": {
  "kernelspec": {
   "display_name": "Python 3",
   "language": "python",
   "name": "python3"
  },
  "language_info": {
   "codemirror_mode": {
    "name": "ipython",
    "version": 3
   },
   "file_extension": ".py",
   "mimetype": "text/x-python",
   "name": "python",
   "nbconvert_exporter": "python",
   "pygments_lexer": "ipython3",
   "version": "3.8.2"
  }
 },
 "nbformat": 4,
 "nbformat_minor": 4
}
