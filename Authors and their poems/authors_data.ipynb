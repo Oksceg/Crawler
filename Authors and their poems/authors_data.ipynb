{
 "cells": [
  {
   "cell_type": "markdown",
   "metadata": {},
   "source": [
    "### 1.1. Импортируем модули и начинаем работать с https://stihi.ru/:"
   ]
  },
  {
   "cell_type": "code",
   "execution_count": 1,
   "metadata": {},
   "outputs": [],
   "source": [
    "import requests\n",
    "from bs4 import BeautifulSoup\n",
    "from pprint import pprint\n",
    "import pandas as pd"
   ]
  },
  {
   "cell_type": "code",
   "execution_count": 2,
   "metadata": {},
   "outputs": [],
   "source": [
    "stihi_ru = \"https://stihi.ru/\"\n",
    "response = requests.get(\"https://stihi.ru/\")"
   ]
  },
  {
   "cell_type": "code",
   "execution_count": 3,
   "metadata": {},
   "outputs": [],
   "source": [
    "html_content = response.text"
   ]
  },
  {
   "cell_type": "markdown",
   "metadata": {},
   "source": [
    "### 1.2. Вытаскиваем ссылки из верхнего меню:"
   ]
  },
  {
   "cell_type": "code",
   "execution_count": 4,
   "metadata": {},
   "outputs": [],
   "source": [
    "soup = BeautifulSoup(html_content, 'html.parser')  \n",
    "post = soup.find('ul', {'class': 'headmenu'})"
   ]
  },
  {
   "cell_type": "code",
   "execution_count": 5,
   "metadata": {},
   "outputs": [
    {
     "data": {
      "text/plain": [
       "['https://stihi.ru//authors/',\n",
       " 'https://stihi.ru//poems/',\n",
       " 'https://stihi.ru//board/',\n",
       " 'https://stihi.ru//search.html',\n",
       " 'https://shop.stihi.ru/',\n",
       " 'https://o.stihi.ru/',\n",
       " 'https://stihi.ru//login/']"
      ]
     },
     "execution_count": 5,
     "metadata": {},
     "output_type": "execute_result"
    }
   ],
   "source": [
    "links = []\n",
    "for link in post.find_all('a'):\n",
    "    actualink = link.get('href')\n",
    "    if \"https\" not in actualink:\n",
    "        full_link = stihi_ru+actualink\n",
    "        links.append(full_link)\n",
    "    else:\n",
    "        links.append(actualink)\n",
    "        \n",
    "links"
   ]
  },
  {
   "cell_type": "markdown",
   "metadata": {},
   "source": [
    "### 2.1. Начинаем работу с ссылкой на рекомендованные произведения:"
   ]
  },
  {
   "cell_type": "code",
   "execution_count": 6,
   "metadata": {},
   "outputs": [
    {
     "data": {
      "text/plain": [
       "'https://stihi.ru//editor/'"
      ]
     },
     "execution_count": 6,
     "metadata": {},
     "output_type": "execute_result"
    }
   ],
   "source": [
    "reclit_line = soup.find('a', {'class': 'topref'})\n",
    "reclit_link = reclit_line.get('href')\n",
    "reclit_link = stihi_ru+reclit_link\n",
    "reclit_link"
   ]
  },
  {
   "cell_type": "code",
   "execution_count": 7,
   "metadata": {},
   "outputs": [],
   "source": [
    "response_2 = requests.get(reclit_link)"
   ]
  },
  {
   "cell_type": "code",
   "execution_count": 8,
   "metadata": {},
   "outputs": [],
   "source": [
    "html_content_2 = response_2.text"
   ]
  },
  {
   "cell_type": "code",
   "execution_count": 9,
   "metadata": {},
   "outputs": [],
   "source": [
    "soup_2 = BeautifulSoup(html_content_2, 'html.parser') "
   ]
  },
  {
   "cell_type": "markdown",
   "metadata": {},
   "source": [
    "### 2.2. Достаем и кладем в отдельные списки произведения, авторов и время публикаций"
   ]
  },
  {
   "cell_type": "code",
   "execution_count": 10,
   "metadata": {},
   "outputs": [],
   "source": [
    "works = []\n",
    "works_lines = soup_2.find_all('a', {'class':'poemlink'})\n",
    "for work in works_lines:\n",
    "    works.append(work.text)"
   ]
  },
  {
   "cell_type": "code",
   "execution_count": 11,
   "metadata": {},
   "outputs": [],
   "source": [
    "autors = []\n",
    "autors_lines = soup_2.find_all('a', {'class':'authorlink'})\n",
    "for autor in autors_lines:\n",
    "    autors.append(autor.text)"
   ]
  },
  {
   "cell_type": "code",
   "execution_count": 12,
   "metadata": {},
   "outputs": [],
   "source": [
    "dates = []\n",
    "dates_lines = soup_2.find_all('small')\n",
    "for date in dates_lines:\n",
    "    date_text = date.text   \n",
    "    date_text = date_text.replace('-', '')\n",
    "    dates.append(date_text)\n"
   ]
  },
  {
   "cell_type": "code",
   "execution_count": 13,
   "metadata": {},
   "outputs": [],
   "source": [
    "YMDs = []\n",
    "for date in dates:\n",
    "    year_month_date_time = date.split()\n",
    "    year_month_date = year_month_date_time[0]\n",
    "    y_m_d = year_month_date.split('.')\n",
    "    YMD = f\"{y_m_d[2]}-{y_m_d[1]}-{y_m_d[0]}\"\n",
    "    YMDs.append(YMD)"
   ]
  },
  {
   "cell_type": "code",
   "execution_count": 14,
   "metadata": {},
   "outputs": [],
   "source": [
    "data = {\n",
    "    \"Автор\": autors,\n",
    "    \"Произведение\": works,\n",
    "    \"Время публикации\": YMDs\n",
    "}"
   ]
  },
  {
   "cell_type": "code",
   "execution_count": 19,
   "metadata": {},
   "outputs": [
    {
     "data": {
      "text/html": [
       "<div>\n",
       "<style scoped>\n",
       "    .dataframe tbody tr th:only-of-type {\n",
       "        vertical-align: middle;\n",
       "    }\n",
       "\n",
       "    .dataframe tbody tr th {\n",
       "        vertical-align: top;\n",
       "    }\n",
       "\n",
       "    .dataframe thead th {\n",
       "        text-align: right;\n",
       "    }\n",
       "</style>\n",
       "<table border=\"1\" class=\"dataframe\">\n",
       "  <thead>\n",
       "    <tr style=\"text-align: right;\">\n",
       "      <th></th>\n",
       "      <th>Автор</th>\n",
       "      <th>Произведение</th>\n",
       "      <th>Время публикации</th>\n",
       "    </tr>\n",
       "  </thead>\n",
       "  <tbody>\n",
       "    <tr>\n",
       "      <th>10</th>\n",
       "      <td>Елена Заостровцева</td>\n",
       "      <td>Бархатный сезон</td>\n",
       "      <td>2021-09-22</td>\n",
       "    </tr>\n",
       "    <tr>\n",
       "      <th>23</th>\n",
       "      <td>Александр Забродин 3</td>\n",
       "      <td>Дождь небольшой</td>\n",
       "      <td>2021-10-01</td>\n",
       "    </tr>\n",
       "    <tr>\n",
       "      <th>21</th>\n",
       "      <td>Игумен Паисий Савосин</td>\n",
       "      <td>Свой мир</td>\n",
       "      <td>2021-10-01</td>\n",
       "    </tr>\n",
       "    <tr>\n",
       "      <th>20</th>\n",
       "      <td>Нина Баландина</td>\n",
       "      <td>Каждая жизнь - отражение лунных зеркал</td>\n",
       "      <td>2021-10-01</td>\n",
       "    </tr>\n",
       "    <tr>\n",
       "      <th>19</th>\n",
       "      <td>Хубулава Григорий Геннадьевич</td>\n",
       "      <td>Октября дрожащего костёр</td>\n",
       "      <td>2021-10-01</td>\n",
       "    </tr>\n",
       "    <tr>\n",
       "      <th>18</th>\n",
       "      <td>Марианна Боровкова</td>\n",
       "      <td>Была бы я женщиной</td>\n",
       "      <td>2021-10-01</td>\n",
       "    </tr>\n",
       "    <tr>\n",
       "      <th>17</th>\n",
       "      <td>Катя Волкова</td>\n",
       "      <td>Тускло светит неба матовый абажур</td>\n",
       "      <td>2021-10-01</td>\n",
       "    </tr>\n",
       "    <tr>\n",
       "      <th>16</th>\n",
       "      <td>Фокеева Елена</td>\n",
       "      <td>Начало осени</td>\n",
       "      <td>2021-10-01</td>\n",
       "    </tr>\n",
       "    <tr>\n",
       "      <th>22</th>\n",
       "      <td>Юрий Рымзин</td>\n",
       "      <td>Ведунья</td>\n",
       "      <td>2021-10-01</td>\n",
       "    </tr>\n",
       "    <tr>\n",
       "      <th>15</th>\n",
       "      <td>Вера Сергеевна Бутко</td>\n",
       "      <td>Дед</td>\n",
       "      <td>2021-10-01</td>\n",
       "    </tr>\n",
       "    <tr>\n",
       "      <th>14</th>\n",
       "      <td>Сергей Хомутов Рыбинск</td>\n",
       "      <td>А рябины, а рябины</td>\n",
       "      <td>2021-10-01</td>\n",
       "    </tr>\n",
       "    <tr>\n",
       "      <th>1</th>\n",
       "      <td>Сергей Мячиков</td>\n",
       "      <td>А в городе снег</td>\n",
       "      <td>2021-10-03</td>\n",
       "    </tr>\n",
       "    <tr>\n",
       "      <th>3</th>\n",
       "      <td>Михаил Ваганов</td>\n",
       "      <td>Кораблик</td>\n",
       "      <td>2021-10-03</td>\n",
       "    </tr>\n",
       "    <tr>\n",
       "      <th>5</th>\n",
       "      <td>Мила Гюнтер</td>\n",
       "      <td>Аминь</td>\n",
       "      <td>2021-10-03</td>\n",
       "    </tr>\n",
       "    <tr>\n",
       "      <th>0</th>\n",
       "      <td>Людмила Зар</td>\n",
       "      <td>Парки Санкт-Петербурга в октябре</td>\n",
       "      <td>2021-10-04</td>\n",
       "    </tr>\n",
       "    <tr>\n",
       "      <th>12</th>\n",
       "      <td>Вячеслав Кислицын</td>\n",
       "      <td>Как солнце, жёлт</td>\n",
       "      <td>2021-10-04</td>\n",
       "    </tr>\n",
       "    <tr>\n",
       "      <th>9</th>\n",
       "      <td>Вадим Бакулин</td>\n",
       "      <td>Красавица-осень</td>\n",
       "      <td>2021-10-04</td>\n",
       "    </tr>\n",
       "    <tr>\n",
       "      <th>8</th>\n",
       "      <td>Сергей Валентинович Чернов</td>\n",
       "      <td>Лицейское</td>\n",
       "      <td>2021-10-04</td>\n",
       "    </tr>\n",
       "    <tr>\n",
       "      <th>7</th>\n",
       "      <td>Евгений Глушаков</td>\n",
       "      <td>Зачёты</td>\n",
       "      <td>2021-10-04</td>\n",
       "    </tr>\n",
       "    <tr>\n",
       "      <th>6</th>\n",
       "      <td>Владимир Шугля</td>\n",
       "      <td>Кружит голубку небосвод</td>\n",
       "      <td>2021-10-04</td>\n",
       "    </tr>\n",
       "    <tr>\n",
       "      <th>4</th>\n",
       "      <td>Елена Наильевна</td>\n",
       "      <td>С Лилькой в парке листья мы собираем</td>\n",
       "      <td>2021-10-04</td>\n",
       "    </tr>\n",
       "    <tr>\n",
       "      <th>2</th>\n",
       "      <td>Римма Алдонина</td>\n",
       "      <td>Рондо</td>\n",
       "      <td>2021-10-04</td>\n",
       "    </tr>\n",
       "    <tr>\n",
       "      <th>13</th>\n",
       "      <td>Марина Николаева-Бурак</td>\n",
       "      <td>Осенний мотылёк</td>\n",
       "      <td>2021-10-04</td>\n",
       "    </tr>\n",
       "    <tr>\n",
       "      <th>11</th>\n",
       "      <td>Любовь Сердечная</td>\n",
       "      <td>Туман</td>\n",
       "      <td>2021-10-04</td>\n",
       "    </tr>\n",
       "  </tbody>\n",
       "</table>\n",
       "</div>"
      ],
      "text/plain": [
       "                            Автор                            Произведение  \\\n",
       "10             Елена Заостровцева                         Бархатный сезон   \n",
       "23           Александр Забродин 3                         Дождь небольшой   \n",
       "21          Игумен Паисий Савосин                                Свой мир   \n",
       "20                 Нина Баландина  Каждая жизнь - отражение лунных зеркал   \n",
       "19  Хубулава Григорий Геннадьевич                Октября дрожащего костёр   \n",
       "18             Марианна Боровкова                      Была бы я женщиной   \n",
       "17                   Катя Волкова       Тускло светит неба матовый абажур   \n",
       "16                  Фокеева Елена                            Начало осени   \n",
       "22                    Юрий Рымзин                                 Ведунья   \n",
       "15           Вера Сергеевна Бутко                                     Дед   \n",
       "14         Сергей Хомутов Рыбинск                      А рябины, а рябины   \n",
       "1                  Сергей Мячиков                         А в городе снег   \n",
       "3                  Михаил Ваганов                                Кораблик   \n",
       "5                     Мила Гюнтер                                   Аминь   \n",
       "0                     Людмила Зар        Парки Санкт-Петербурга в октябре   \n",
       "12              Вячеслав Кислицын                        Как солнце, жёлт   \n",
       "9                   Вадим Бакулин                         Красавица-осень   \n",
       "8      Сергей Валентинович Чернов                               Лицейское   \n",
       "7                Евгений Глушаков                                  Зачёты   \n",
       "6                  Владимир Шугля                 Кружит голубку небосвод   \n",
       "4                 Елена Наильевна    С Лилькой в парке листья мы собираем   \n",
       "2                  Римма Алдонина                                   Рондо   \n",
       "13         Марина Николаева-Бурак                         Осенний мотылёк   \n",
       "11               Любовь Сердечная                                   Туман   \n",
       "\n",
       "   Время публикации  \n",
       "10       2021-09-22  \n",
       "23       2021-10-01  \n",
       "21       2021-10-01  \n",
       "20       2021-10-01  \n",
       "19       2021-10-01  \n",
       "18       2021-10-01  \n",
       "17       2021-10-01  \n",
       "16       2021-10-01  \n",
       "22       2021-10-01  \n",
       "15       2021-10-01  \n",
       "14       2021-10-01  \n",
       "1        2021-10-03  \n",
       "3        2021-10-03  \n",
       "5        2021-10-03  \n",
       "0        2021-10-04  \n",
       "12       2021-10-04  \n",
       "9        2021-10-04  \n",
       "8        2021-10-04  \n",
       "7        2021-10-04  \n",
       "6        2021-10-04  \n",
       "4        2021-10-04  \n",
       "2        2021-10-04  \n",
       "13       2021-10-04  \n",
       "11       2021-10-04  "
      ]
     },
     "execution_count": 19,
     "metadata": {},
     "output_type": "execute_result"
    }
   ],
   "source": [
    "df = pd.DataFrame(data).sort_values(by=\"Время публикации\")\n",
    "df"
   ]
  },
  {
   "cell_type": "markdown",
   "metadata": {},
   "source": [
    "#### Запишем все в файл:"
   ]
  },
  {
   "cell_type": "code",
   "execution_count": 22,
   "metadata": {},
   "outputs": [],
   "source": [
    "writer = pd.ExcelWriter('stihi_data.xlsx', engine='xlsxwriter')\n",
    "   \n",
    "df.to_excel(writer, 'Sheet1', index=False)\n",
    "\n",
    "writer.save()"
   ]
  }
 ],
 "metadata": {
  "kernelspec": {
   "display_name": "Python 3",
   "language": "python",
   "name": "python3"
  },
  "language_info": {
   "codemirror_mode": {
    "name": "ipython",
    "version": 3
   },
   "file_extension": ".py",
   "mimetype": "text/x-python",
   "name": "python",
   "nbconvert_exporter": "python",
   "pygments_lexer": "ipython3",
   "version": "3.8.2"
  }
 },
 "nbformat": 4,
 "nbformat_minor": 4
}
